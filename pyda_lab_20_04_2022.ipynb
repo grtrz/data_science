{
  "cells": [
    {
      "cell_type": "markdown",
      "metadata": {
        "id": "view-in-github",
        "colab_type": "text"
      },
      "source": [
        "<a href=\"https://colab.research.google.com/github/GrTrz/data_science/blob/main/pyda_lab_20_04_2022.ipynb\" target=\"_parent\"><img src=\"https://colab.research.google.com/assets/colab-badge.svg\" alt=\"Open In Colab\"/></a>"
      ]
    },
    {
      "cell_type": "markdown",
      "metadata": {
        "id": "rH12ozMHCzUN"
      },
      "source": [
        "## Лабораторная работа по курсу «Python для анализа данных»"
      ]
    },
    {
      "cell_type": "markdown",
      "metadata": {
        "id": "pphOZ3eWCzUP"
      },
      "source": [
        "### При выполнении работы допускается использование любых внешних модулей и пакетов. Готовые решения принимаются в виде ссылки на GitHub."
      ]
    },
    {
      "cell_type": "markdown",
      "metadata": {
        "id": "M--leKJOCzUQ"
      },
      "source": [
        "#### Задача 1"
      ]
    },
    {
      "cell_type": "markdown",
      "metadata": {
        "id": "0CqD4FLWCzUR"
      },
      "source": [
        "Дана строка:"
      ]
    },
    {
      "cell_type": "code",
      "execution_count": null,
      "metadata": {
        "id": "vaSdISXKCzUR"
      },
      "outputs": [],
      "source": [
        "string_01 = \"History is always written by the winners. hen two cultures clash, the loser is obliterated, and the winner writes the history books-books which glorify their own cause and disparage the conquered foe. As Napoleon once said, 'What is history, but a fable agreed upon?\""
      ]
    },
    {
      "cell_type": "markdown",
      "metadata": {
        "id": "f13J7WyeCzUS"
      },
      "source": [
        "1. Посчитайте, сколько в строке символов, исключая пробелы:"
      ]
    },
    {
      "cell_type": "code",
      "execution_count": null,
      "metadata": {
        "colab": {
          "base_uri": "https://localhost:8080/"
        },
        "id": "8kY8sGSXCzUS",
        "outputId": "0013f946-e4bb-43d0-bd19-946e94617c22"
      },
      "outputs": [
        {
          "output_type": "stream",
          "name": "stdout",
          "text": [
            "['History', 'is', 'always', 'written', 'by', 'the', 'winners.', 'hen', 'two', 'cultures', 'clash,', 'the', 'loser', 'is', 'obliterated,', 'and', 'the', 'winner', 'writes', 'the', 'history', 'books-books', 'which', 'glorify', 'their', 'own', 'cause', 'and', 'disparage', 'the', 'conquered', 'foe.', 'As', 'Napoleon', 'once', 'said,', \"'What\", 'is', 'history,', 'but', 'a', 'fable', 'agreed', 'upon?']\n"
          ]
        }
      ],
      "source": [
        "total_chars = len(string_01)\n",
        "words = string_01.split()\n",
        "print(words)"
      ]
    },
    {
      "cell_type": "markdown",
      "metadata": {
        "id": "A5uL2LPtCzUT"
      },
      "source": [
        "2. Посчитайте, сколько в строке слов."
      ]
    },
    {
      "cell_type": "code",
      "execution_count": null,
      "metadata": {
        "id": "66YaNbdrCzUT"
      },
      "outputs": [],
      "source": [
        ""
      ]
    },
    {
      "cell_type": "markdown",
      "metadata": {
        "id": "7Qw0OpPXCzUT"
      },
      "source": [
        "3. Напишите функцию, которая будет принимать в качестве аргумента букву и выводить все слова из строки, начинающиеся на эту букву (например, “w”)."
      ]
    },
    {
      "cell_type": "code",
      "execution_count": null,
      "metadata": {
        "colab": {
          "base_uri": "https://localhost:8080/"
        },
        "id": "nLYxMh64CzUU",
        "outputId": "1ae2b16b-b250-4e04-a409-d6a777541f5b"
      },
      "outputs": [
        {
          "output_type": "stream",
          "name": "stdout",
          "text": [
            "is\n",
            "is\n",
            "is\n"
          ]
        }
      ],
      "source": [
        "# Пример функции, которая ищет все слова, совпавшие с some_word\n",
        "\n",
        "def my_func(some_word, words):\n",
        "  for word in words:\n",
        "    if word == some_word:\n",
        "      print(word)\n",
        "\n",
        "my_func('is', words)"
      ]
    },
    {
      "cell_type": "markdown",
      "metadata": {
        "id": "n8RVnmj1CzUU"
      },
      "source": [
        "#### Задача 2"
      ]
    },
    {
      "cell_type": "markdown",
      "metadata": {
        "id": "hLMHThXeCzUU"
      },
      "source": [
        "Напишите код, который будет генерировать случайную последовательность из 6 цифр, одна из которых должна быть 3. Позиция цифры 3 должна\n",
        "определяться случайным образом. Результат должен быть строкой. Например: \"456309\" или \"330127\"."
      ]
    },
    {
      "cell_type": "code",
      "execution_count": null,
      "metadata": {
        "colab": {
          "base_uri": "https://localhost:8080/"
        },
        "id": "lCDQ4ZIyCzUV",
        "outputId": "a6b709bb-e36b-462b-c61c-30d3119cc207"
      },
      "outputs": [
        {
          "output_type": "stream",
          "name": "stdout",
          "text": [
            "75847\n",
            "['7', '5', '8', '4', '7']\n",
            "4\n",
            "['7', '5', '8', '4', '3', '7']\n"
          ]
        }
      ],
      "source": [
        "from random import Random \n",
        "\n",
        "# Создаём объект класс Random\n",
        "r = Random() \n",
        "# получаем случайное число из интервала\n",
        "n = r.randint(10000, 99999)\n",
        "print(n)\n",
        "# Преобразуем число в строку\n",
        "s = str(n)\n",
        "# Строку можно превратить в список\n",
        "digits = list(s)\n",
        "\n",
        "print(digits)\n",
        "\n",
        "# Генерируем м\n",
        "place = r.randint(0, 5)\n",
        "print(place)\n",
        "\n",
        "if place < 5:\n",
        "  digits = digits[:place] + ['3'] + digits[place:]\n",
        "else:\n",
        "  digits = digits + ['3']\n",
        "\n",
        "print(digits)"
      ]
    },
    {
      "cell_type": "markdown",
      "metadata": {
        "id": "I5u1a0ZNCzUV"
      },
      "source": [
        "#### Задача 3"
      ]
    },
    {
      "cell_type": "markdown",
      "metadata": {
        "id": "F9GcXGeRCzUV"
      },
      "source": [
        "Дан список:"
      ]
    },
    {
      "cell_type": "code",
      "execution_count": null,
      "metadata": {
        "id": "vcI8rNnhCzUW"
      },
      "outputs": [],
      "source": [
        "list_01 = [1, 1, 2, 3, 5, 8, 13, 21, 34, 55, 89, 144, 233, 377, 610, 14, 46, 273, 22, 99, 15, 1000]"
      ]
    },
    {
      "cell_type": "markdown",
      "metadata": {
        "id": "A9WstvnQCzUW"
      },
      "source": [
        "Напишите алгоритм, который выводит сумму элементов списка, которые больше 10, но меньше 100, и которые больше 200, но меньше 500."
      ]
    },
    {
      "cell_type": "code",
      "execution_count": null,
      "metadata": {
        "id": "-Z6pozlrCzUX"
      },
      "outputs": [],
      "source": [
        ""
      ]
    },
    {
      "cell_type": "markdown",
      "metadata": {
        "id": "6JhOaPAdCzUX"
      },
      "source": [
        "#### Задача 4"
      ]
    },
    {
      "cell_type": "markdown",
      "metadata": {
        "id": "iRHx6Sr4CzUX"
      },
      "source": [
        "Данные студентов представлены в виде списка списков:"
      ]
    },
    {
      "cell_type": "code",
      "execution_count": null,
      "metadata": {
        "id": "PjK5taFKCzUY"
      },
      "outputs": [],
      "source": [
        "students = [\n",
        "[\"0001\", \"Антонов\", \"Антон\", \"Игоревич\", \"20.08.2009\",\"БСТ161\"],\n",
        "[\"1102\", \"Богов\", \"Артем\", \"Игоревич\", \"25.01.2010\",\"БСТ162\"],\n",
        "[\"0333\", \"Глаголева\", \"Анастасия\", \"Николаевна\", \"11.07.2009\", \"БСТ163\"],\n",
        "[\"4004\", \"Степанова\", \"Наталья\", \"Александровна\", \"13.02.2008\", \"БСТ161\"],\n",
        "[\"0045\", \"Боков\", \"Игорь\", \"Харитонович\", \"02.06.2009\", \"БСТ161\"],\n",
        "[\"0096\", \"Васильков\", \"Валентин\", \"Сергеевич\", \"20.03.2009\", \"БСТ164\"],\n",
        "[\"0607\", \"Сиропова\", \"Виолетта\", \"Эдуардовна\", \"28.05.2010\", \"БСТ162\"]\n",
        "    ]"
      ]
    },
    {
      "cell_type": "markdown",
      "metadata": {
        "id": "0oALtoC3CzUZ"
      },
      "source": [
        "1. Преобразуйте данные таким образом, чтобы они были представлены в виде словаря, в котором ключами являются номера студентов, а значениями — список из других данных о студентах."
      ]
    },
    {
      "cell_type": "code",
      "execution_count": null,
      "metadata": {
        "id": "jBLg9F1qCzUZ"
      },
      "outputs": [],
      "source": [
        ""
      ]
    },
    {
      "cell_type": "markdown",
      "metadata": {
        "id": "2pqrlTvhCzUZ"
      },
      "source": [
        "2. Напишите функцию, которая принимает в качестве аргумента номер студента и новый номер группы и позволяет изменить номер группы этого студента на новый."
      ]
    },
    {
      "cell_type": "code",
      "execution_count": null,
      "metadata": {
        "id": "v3AlfoKXCzUa"
      },
      "outputs": [],
      "source": [
        ""
      ]
    },
    {
      "cell_type": "markdown",
      "metadata": {
        "id": "mU4_SJHfCzUa"
      },
      "source": [
        "3. Напишите функцию, которая принимает номер группы и выводит список (фамилии, имена, отчества) всех студентов этой группы."
      ]
    },
    {
      "cell_type": "code",
      "execution_count": null,
      "metadata": {
        "id": "VWasZnOPCzUa"
      },
      "outputs": [],
      "source": [
        ""
      ]
    },
    {
      "cell_type": "markdown",
      "metadata": {
        "id": "3cpsZZ8YCzUb"
      },
      "source": [
        "#### Задача 5"
      ]
    },
    {
      "cell_type": "markdown",
      "metadata": {
        "id": "Felo3A3MCzUb"
      },
      "source": [
        "Дана матрица:"
      ]
    },
    {
      "cell_type": "code",
      "execution_count": null,
      "metadata": {
        "id": "cn9hWp0pCzUb"
      },
      "outputs": [],
      "source": [
        "matrix = [ \n",
        "    [0,1,2,4,8], \n",
        "    [6,2,2,1,9], \n",
        "    [3,3,3,3,3], \n",
        "    [4,6,7,1,2], \n",
        "    [5,7,3,4,0] \n",
        "]"
      ]
    },
    {
      "cell_type": "markdown",
      "metadata": {
        "id": "_tTEDnD5CzUc"
      },
      "source": [
        "1. Выведите результат сложения всех элементов матрицы."
      ]
    },
    {
      "cell_type": "code",
      "execution_count": null,
      "metadata": {
        "id": "pcb_0OJMCzUc"
      },
      "outputs": [],
      "source": [
        ""
      ]
    },
    {
      "cell_type": "markdown",
      "metadata": {
        "id": "k3ikOGCECzUc"
      },
      "source": [
        "2. Напишите алгоритм вычисления максимума из сумм элементов каждого столбца."
      ]
    },
    {
      "cell_type": "code",
      "execution_count": null,
      "metadata": {
        "id": "q8_P-tJ_CzUc"
      },
      "outputs": [],
      "source": [
        ""
      ]
    }
  ],
  "metadata": {
    "kernelspec": {
      "display_name": "Python 3",
      "language": "python",
      "name": "python3"
    },
    "language_info": {
      "codemirror_mode": {
        "name": "ipython",
        "version": 3
      },
      "file_extension": ".py",
      "mimetype": "text/x-python",
      "name": "python",
      "nbconvert_exporter": "python",
      "pygments_lexer": "ipython3",
      "version": "3.7.0"
    },
    "colab": {
      "name": "pyda-lab-20-04-2022.ipynb",
      "provenance": [],
      "include_colab_link": true
    }
  },
  "nbformat": 4,
  "nbformat_minor": 0
}